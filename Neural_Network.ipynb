{
 "cells": [
  {
   "cell_type": "markdown",
   "id": "84d4f082-c5bb-419e-90d7-f29a5310f857",
   "metadata": {},
   "source": [
    "## EA MAP ...\n",
    "\n",
    "``"
   ]
  },
  {
   "cell_type": "code",
   "execution_count": 1,
   "id": "b24a0980-072e-47fa-8179-c3ea5942a3fa",
   "metadata": {},
   "outputs": [],
   "source": [
    "import numpy as np\n",
    "import pandas as pd\n",
    "import matplotlib.pyplot as plt\n",
    "import scipy.stats as sps\n",
    "import tensorflow as tf\n",
    "from tensorflow import keras\n",
    "from tensorflow.keras import layers\n",
    "import sklearn\n",
    "from sklearn.linear_model import LinearRegression\n"
   ]
  },
  {
   "cell_type": "code",
   "execution_count": 2,
   "id": "5370e119-f861-4e4f-ba87-5d3b9f21c624",
   "metadata": {},
   "outputs": [],
   "source": [
    "# parameters\n",
    "\n",
    "s0 = 100\n",
    "r = 0.02\n",
    "sigma = 0.25\n",
    "range_k = np.arange(80, 120)\n",
    "nb_sample = 10000\n",
    "T = 2\n",
    "\n",
    "fixed_K = 100\n",
    "Z = np.random.randn(nb_sample)"
   ]
  },
  {
   "cell_type": "code",
   "execution_count": 13,
   "id": "8457845e-efea-4373-a452-10733155de94",
   "metadata": {},
   "outputs": [],
   "source": [
    "\n",
    "# Function for computing the payofff\n",
    "def f(Z , K , s0 = s0 , r = r , sigma = sigma, T = T):\n",
    "    \n",
    "    S = s0*np.exp(sigma*np.sqrt(T)*Z - 0.5*sigma**2 * T + r*T) \n",
    "    return np.maximum(S-K,0)\n",
    "\n",
    "\n",
    "def call(K, S0 =s0, T = T, r = r, sigma = sigma):\n",
    "    \"\"\"\n",
    "    This function returns the Black-scholes price of the call\n",
    "    \"\"\"\n",
    "    \n",
    "    K_disc = K*np.exp(-r*T)\n",
    "    v = sigma**2 * T\n",
    "    d1 = np.log(S0/K_disc)/np.sqrt(v) - 0.5*np.sqrt(v)\n",
    "    d2 = np.log(S0/K_disc)/np.sqrt(v) + 0.5*np.sqrt(v)\n",
    "    \n",
    "    price = S0* sps.norm.cdf(d2) - K_disc*sps.norm.cdf(d1)\n",
    "    \n",
    "    return price"
   ]
  },
  {
   "cell_type": "code",
   "execution_count": 27,
   "id": "f6baf225-3728-45ac-a720-fa38f171b622",
   "metadata": {},
   "outputs": [
    {
     "name": "stdout",
     "output_type": "stream",
     "text": [
      "313/313 [==============================] - 1s 2ms/step - loss: 754.9083\n"
     ]
    }
   ],
   "source": [
    "# defining our model\n",
    "def NN_model(Z, K, s0 = s0 , r = r , sigma = sigma, T = T):\n",
    "    model = keras.Sequential()\n",
    "    model.add( layers.Dense(nb_sample // 2, input_dim = 1, activation = 'relu') )\n",
    "    model.add( layers.Dense(1))\n",
    "\n",
    "    model.compile(optimizer = 'adam', loss = 'mean_squared_error')\n",
    "\n",
    "    # Fitting the model\n",
    "    X_train, Y_train =Z, f(Z, K, s0 , r , sigma, T)\n",
    "    model.fit(X_train, Y_train)\n",
    "\n",
    "    # Getting the weights:\n",
    "    W1, b1 = model.layers[0].get_weights()\n",
    "    W2, b2  = model.layers[1].get_weights()\n",
    "\n",
    "    # \n",
    "    mu = b1\n",
    "    sig = W1[0]\n",
    "    sign_sig = sig > 0\n",
    "    esp1 = np.abs(sig)*np.exp(-0.5*mu**2/(sig**2))/np.sqrt(2*np.pi) + mu*(sign_sig + (1-2*sign_sig) * sps.norm.cdf(-mu/sig))\n",
    "    esp2 = np.dot(W2[:,0],esp1) +  b2[0]\n",
    "\n",
    "    return (W1,b1),(W2,b2),esp2\n",
    "\n",
    "## Parameters and means \n",
    "(W1,b1),(W2,b2), expected_value = NN_model(Z,fixed_K, s0 , r , sigma, T)\n"
   ]
  },
  {
   "cell_type": "code",
   "execution_count": 28,
   "id": "a3270861-4f42-4edf-b46a-9296cc6aadd2",
   "metadata": {},
   "outputs": [
    {
     "data": {
      "text/plain": [
       "array([ 1, -1,  1, ...,  1,  1,  1])"
      ]
     },
     "execution_count": 28,
     "metadata": {},
     "output_type": "execute_result"
    }
   ],
   "source": [
    "1-2*(W1[0] > 0)"
   ]
  },
  {
   "cell_type": "code",
   "execution_count": null,
   "id": "7e580bde-8069-416e-9873-649b41e1be15",
   "metadata": {},
   "outputs": [],
   "source": []
  },
  {
   "cell_type": "code",
   "execution_count": 29,
   "id": "8ba55c8f-85ae-4de7-8501-e123b1ece5ac",
   "metadata": {},
   "outputs": [
    {
     "data": {
      "image/png": "[encoded data removed]",
      "text/plain": [
       "<Figure size 720x432 with 1 Axes>"
      ]
     },
     "metadata": {
      "needs_background": "light"
     },
     "output_type": "display_data"
    }
   ],
   "source": [
    "# Control variate function Using the expectation formulae in the paper:\n",
    "def NN_h(Z, K, W1 = W1 , b1 = b1 , W2 = W2, b2 = b2):\n",
    "    value = (np.maximum(W1*Z+b1,0) @ W2 + b2 )[0]\n",
    "    return value \n",
    "\n",
    "## Plotting f vs NN_h for fixed_k\n",
    "plt.figure(figsize = (10,6))\n",
    "z = np.linspace(-5,5,150)\n",
    "plt.plot(z,[NN_h(x,fixed_K) for x in z], label = (\"h\"))\n",
    "plt.plot(z, f(z, fixed_K),label='f')\n",
    "plt.xlabel('Z')\n",
    "plt.title(\"payoff vs control variate function\")\n",
    "plt.legend()\n",
    "plt.show()\n",
    "\n",
    "\n"
   ]
  },
  {
   "cell_type": "code",
   "execution_count": 30,
   "id": "39b178a6-13fb-47da-a750-699e5e20d511",
   "metadata": {
    "tags": []
   },
   "outputs": [
    {
     "name": "stdout",
     "output_type": "stream",
     "text": [
      "313/313 [==============================] - 1s 2ms/step - loss: 840.5328\n",
      "313/313 [==============================] - 1s 2ms/step - loss: 864.1497\n",
      "313/313 [==============================] - 1s 2ms/step - loss: 800.2545\n",
      "313/313 [==============================] - 1s 2ms/step - loss: 725.2534\n",
      "313/313 [==============================] - 1s 2ms/step - loss: 852.0265\n",
      "313/313 [==============================] - 1s 2ms/step - loss: 763.0656\n",
      "313/313 [==============================] - 1s 2ms/step - loss: 779.5414\n",
      "313/313 [==============================] - 1s 2ms/step - loss: 736.9440\n",
      "313/313 [==============================] - 1s 2ms/step - loss: 773.5256\n",
      "313/313 [==============================] - 1s 2ms/step - loss: 729.5466\n",
      "313/313 [==============================] - 1s 2ms/step - loss: 666.6146\n",
      "313/313 [==============================] - 1s 2ms/step - loss: 754.7518\n",
      "313/313 [==============================] - 1s 2ms/step - loss: 692.6088\n",
      "313/313 [==============================] - 1s 2ms/step - loss: 721.3187\n",
      "313/313 [==============================] - 1s 2ms/step - loss: 690.9926\n",
      "313/313 [==============================] - 1s 2ms/step - loss: 709.2238\n",
      "313/313 [==============================] - 1s 2ms/step - loss: 711.8710\n",
      "313/313 [==============================] - 1s 2ms/step - loss: 757.9393\n",
      "313/313 [==============================] - 1s 2ms/step - loss: 713.8188\n",
      "313/313 [==============================] - 1s 2ms/step - loss: 727.5795\n",
      "313/313 [==============================] - 1s 2ms/step - loss: 751.9778\n",
      "313/313 [==============================] - 1s 2ms/step - loss: 763.7784\n",
      "313/313 [==============================] - 1s 2ms/step - loss: 747.9579\n",
      "313/313 [==============================] - 1s 2ms/step - loss: 734.3040\n",
      "313/313 [==============================] - 1s 2ms/step - loss: 711.0093\n",
      "313/313 [==============================] - 1s 2ms/step - loss: 641.3763\n",
      "313/313 [==============================] - 1s 2ms/step - loss: 689.9063\n",
      "313/313 [==============================] - 1s 2ms/step - loss: 695.7041\n",
      "313/313 [==============================] - 1s 2ms/step - loss: 664.3542\n",
      "313/313 [==============================] - 1s 2ms/step - loss: 655.6877\n",
      "313/313 [==============================] - 1s 2ms/step - loss: 605.3700\n",
      "313/313 [==============================] - 1s 2ms/step - loss: 633.8715\n",
      "313/313 [==============================] - 1s 2ms/step - loss: 631.9204\n",
      "313/313 [==============================] - 1s 2ms/step - loss: 638.6412\n",
      "313/313 [==============================] - 1s 2ms/step - loss: 629.4929\n",
      "313/313 [==============================] - 1s 2ms/step - loss: 578.5612\n",
      "313/313 [==============================] - 1s 2ms/step - loss: 559.9373\n",
      "313/313 [==============================] - 1s 2ms/step - loss: 561.1617\n",
      "313/313 [==============================] - 1s 2ms/step - loss: 616.7933\n",
      "313/313 [==============================] - 1s 2ms/step - loss: 618.3385\n"
     ]
    }
   ],
   "source": [
    "## Control variate method\n",
    "\n",
    "###\n",
    "def NN_f_control(Z , K ,esp, W1 = W1 , b1 = b1 , W2 = W2, b2 = b2):\n",
    "    h_func = NN_h(Z,K, W1 , b1 , W2, b2)\n",
    "    return f(Z,K) - h_func + esp\n",
    "\n",
    "controlled_payoffs = np.zeros((len(range_k),len(Z)))\n",
    "for i,K in enumerate(range_k):\n",
    "    (W1,b1),(W2,b2), expected_value = NN_model(Z,K)\n",
    "    controlled_payoffs[i,:] = np.array([NN_f_control(z,K,expected_value, W1 , b1, W2, b2) for z in Z])[:,0]\n",
    "\n",
    "\n",
    "std_control = np.std(controlled_payoffs , axis = 1)\n",
    "\n",
    "control_prices = np.mean(controlled_payoffs, axis =1)*np.exp(-r*T)\n",
    "\n",
    "IC_control = control_prices + 1.96 / np.sqrt(controlled_payoffs.shape[1]) * np.array([-std_control,std_control])\n",
    "\n",
    "true_prices = np.array([call(K) for K in range_k])\n",
    "# error_control = ( np.cumsum( controlled_payoffs[indice_k] ) *np.exp(-r *T)  / np.arange(1,nb_sample+1) )/true_prices[indice_k] - 1"
   ]
  },
  {
   "cell_type": "code",
   "execution_count": 31,
   "id": "977f8ef4-d30d-47d3-889d-c693bfbca76a",
   "metadata": {},
   "outputs": [
    {
     "name": "stderr",
     "output_type": "stream",
     "text": [
      "No handles with labels found to put in legend.\n"
     ]
    },
    {
     "data": {
      "image/png": "[encoded data removed]",
      "text/plain": [
       "<Figure size 1440x576 with 2 Axes>"
      ]
     },
     "metadata": {
      "needs_background": "light"
     },
     "output_type": "display_data"
    }
   ],
   "source": [
    "fig,(ax1 , ax2 )  = plt.subplots(1,2, figsize = (20,8) )\n",
    "\n",
    "ax1.plot(range_k , control_prices , 'r', label = f'Monte Carlo prices with n_samples= {nb_sample}')\n",
    "ax1.plot(range_k , true_prices,'k', label = 'Blackscholes model prices')\n",
    "ax1.fill_between(range_k, IC_control[0], IC_control[1], alpha=0.5, label='Confidence interval')\n",
    "ax1.set_xlabel('Strike Price (K) ')\n",
    "ax1.set_label('Call prices')\n",
    "ax1.set_title ( f'Monte Carlo estimation VS Blackscholes theoretical prices' )\n",
    "ax1.legend(loc = 'best')\n",
    "\n",
    "#ax2.plot(np.arange(1,nb_sample+1) [:], error_control[:] , label = 'relative error' )\n",
    "ax2.set_xlabel ('nb_sample')\n",
    "ax2.set_ylabel ('relative error')\n",
    "#ax2.set_title (f'relative error between Monte Carlo estimated and Blackscholes theoretical prices for K = {fixed_k} ' )\n",
    "ax2.legend(loc = 'best')\n",
    "# ax2.set_ylim((-1,1))\n",
    "plt.grid()\n",
    "plt.show()"
   ]
  },
  {
   "cell_type": "code",
   "execution_count": 8,
   "id": "0b474841-776c-4ed7-b4c9-6ece1c52db93",
   "metadata": {},
   "outputs": [
    {
     "ename": "NameError",
     "evalue": "name 'model' is not defined",
     "output_type": "error",
     "traceback": [
      "\u001b[1;31m---------------------------------------------------------------------------\u001b[0m",
      "\u001b[1;31mNameError\u001b[0m                                 Traceback (most recent call last)",
      "\u001b[1;32m~\\AppData\\Local\\Temp/ipykernel_9728/2975881912.py\u001b[0m in \u001b[0;36m<module>\u001b[1;34m\u001b[0m\n\u001b[1;32m----> 1\u001b[1;33m \u001b[0mW1\u001b[0m\u001b[1;33m,\u001b[0m \u001b[0mb1\u001b[0m \u001b[1;33m=\u001b[0m \u001b[0mmodel\u001b[0m\u001b[1;33m.\u001b[0m\u001b[0mlayers\u001b[0m\u001b[1;33m[\u001b[0m\u001b[1;36m0\u001b[0m\u001b[1;33m]\u001b[0m\u001b[1;33m.\u001b[0m\u001b[0mget_weights\u001b[0m\u001b[1;33m(\u001b[0m\u001b[1;33m)\u001b[0m\u001b[1;33m\u001b[0m\u001b[1;33m\u001b[0m\u001b[0m\n\u001b[0m\u001b[0;32m      2\u001b[0m \u001b[0mW2\u001b[0m\u001b[1;33m,\u001b[0m \u001b[0mb2\u001b[0m  \u001b[1;33m=\u001b[0m \u001b[0mmodel\u001b[0m\u001b[1;33m.\u001b[0m\u001b[0mlayers\u001b[0m\u001b[1;33m[\u001b[0m\u001b[1;36m1\u001b[0m\u001b[1;33m]\u001b[0m\u001b[1;33m.\u001b[0m\u001b[0mget_weights\u001b[0m\u001b[1;33m(\u001b[0m\u001b[1;33m)\u001b[0m\u001b[1;33m\u001b[0m\u001b[1;33m\u001b[0m\u001b[0m\n",
      "\u001b[1;31mNameError\u001b[0m: name 'model' is not defined"
     ]
    }
   ],
   "source": [
    "W1, b1 = model.layers[0].get_weights()\n",
    "W2, b2  = model.layers[1].get_weights()"
   ]
  },
  {
   "cell_type": "code",
   "execution_count": null,
   "id": "b14e0b49-3c5b-4723-9b6d-e1a20b2a4344",
   "metadata": {},
   "outputs": [],
   "source": [
    "W1.shape"
   ]
  },
  {
   "cell_type": "code",
   "execution_count": null,
   "id": "be2a68e2-2720-480a-b7be-0c95822fe5aa",
   "metadata": {},
   "outputs": [],
   "source": [
    "b1.shape"
   ]
  },
  {
   "cell_type": "code",
   "execution_count": null,
   "id": "33c723e0-3ede-41f5-a91b-0f8b367a89b3",
   "metadata": {},
   "outputs": [],
   "source": [
    "W2.shape"
   ]
  },
  {
   "cell_type": "code",
   "execution_count": null,
   "id": "7170f6f5-6989-48c8-b42d-eb241d573360",
   "metadata": {},
   "outputs": [],
   "source": [
    "b2.shape"
   ]
  },
  {
   "cell_type": "code",
   "execution_count": null,
   "id": "ff516a5a-c3a6-44be-ac33-e3e225499cef",
   "metadata": {},
   "outputs": [],
   "source": [
    "mu/sig"
   ]
  },
  {
   "cell_type": "code",
   "execution_count": null,
   "id": "e61548f1-32ba-4c4c-900e-54edda3cf0ec",
   "metadata": {},
   "outputs": [],
   "source": [
    "W1[0].shape"
   ]
  },
  {
   "cell_type": "code",
   "execution_count": null,
   "id": "7c2b24f7-ed2c-4784-9b2a-9285b01944a2",
   "metadata": {},
   "outputs": [],
   "source": [
    "np.dot(W2,W1+b1).shape"
   ]
  },
  {
   "cell_type": "code",
   "execution_count": null,
   "id": "f9234703-288f-4fd7-8b50-228720161a83",
   "metadata": {},
   "outputs": [],
   "source": [
    "(W1+b1).shape"
   ]
  },
  {
   "cell_type": "code",
   "execution_count": null,
   "id": "ea5056aa-0336-4fb7-baca-8150377c4201",
   "metadata": {},
   "outputs": [],
   "source": [
    "(sig*np.exp(-0.5*mu**2/sig**2)/(2*np.pi) + mu*(1-sps.norm.cdf(-sig/mu))).shape"
   ]
  },
  {
   "cell_type": "code",
   "execution_count": null,
   "id": "01483502-e972-4e1f-b615-b73099a56c9c",
   "metadata": {},
   "outputs": [],
   "source": [
    "b2"
   ]
  },
  {
   "cell_type": "code",
   "execution_count": null,
   "id": "f17bf339-37f8-4cce-8eb2-e467c3fdb1b4",
   "metadata": {},
   "outputs": [],
   "source": [
    "(np.maximum(W1*0.9+b1,0) @ W2 +b2)[0]"
   ]
  },
  {
   "cell_type": "code",
   "execution_count": null,
   "id": "e328cdc5-6158-4926-add6-56c991e8493b",
   "metadata": {},
   "outputs": [],
   "source": [
    "W1.shape"
   ]
  },
  {
   "cell_type": "code",
   "execution_count": null,
   "id": "5b2d41c1-a940-4c2e-a675-1e7a18fcb52e",
   "metadata": {},
   "outputs": [],
   "source": [
    "(10*W1)"
   ]
  },
  {
   "cell_type": "code",
   "execution_count": 12,
   "id": "b87c5045-2a9a-4632-82a6-3749933dfae9",
   "metadata": {},
   "outputs": [
    {
     "data": {
      "text/plain": [
       "(40, 10000)"
      ]
     },
     "execution_count": 12,
     "metadata": {},
     "output_type": "execute_result"
    }
   ],
   "source": [
    "controlled_payoffs.shape"
   ]
  },
  {
   "cell_type": "code",
   "execution_count": null,
   "id": "6bbc565b-ced0-491a-a8d4-3eb8290a031d",
   "metadata": {},
   "outputs": [],
   "source": [
    "W1"
   ]
  },
  {
   "cell_type": "code",
   "execution_count": null,
   "id": "fb09fa5a-7720-40aa-b9df-fce0919723a6",
   "metadata": {},
   "outputs": [],
   "source": [
    "b1"
   ]
  },
  {
   "cell_type": "code",
   "execution_count": null,
   "id": "86cd8698-2bce-488d-928d-712093769979",
   "metadata": {},
   "outputs": [],
   "source": [
    "(W1+b1).shape"
   ]
  },
  {
   "cell_type": "code",
   "execution_count": null,
   "id": "f3c2b583-7a7f-40b4-a07e-19f2a875abfd",
   "metadata": {},
   "outputs": [],
   "source": [
    "W2.shape"
   ]
  },
  {
   "cell_type": "code",
   "execution_count": null,
   "id": "06e51eda-1bdb-4c7b-a086-3d9db8e888c0",
   "metadata": {},
   "outputs": [],
   "source": [
    "W1@W2"
   ]
  },
  {
   "cell_type": "code",
   "execution_count": null,
   "id": "e0e48df5-7d6f-4853-80d2-e35bbf5feb46",
   "metadata": {},
   "outputs": [],
   "source": [
    "np.dot(W1[0],W2[:,0])"
   ]
  },
  {
   "cell_type": "code",
   "execution_count": null,
   "id": "aff04ade-a217-4c59-9557-70823d0b6e3e",
   "metadata": {},
   "outputs": [],
   "source": [
    " (np.maximum(W1*0.5+b1,0) @ W2 + b2[0] )"
   ]
  },
  {
   "cell_type": "code",
   "execution_count": null,
   "id": "1329f1f5-5a39-490b-8d4b-d9768c868213",
   "metadata": {},
   "outputs": [],
   "source": [
    "W2.shape"
   ]
  },
  {
   "cell_type": "code",
   "execution_count": null,
   "id": "4a5fab7a-82c5-4415-873b-4a13a1ee8d3b",
   "metadata": {},
   "outputs": [],
   "source": [
    "sig = np.abs(W1[0])*np.sqrt(T)\n",
    "esp1 = sig*np.exp(-0.5*mu**2/(sig**2))/(2*np.pi) + mu*(1-sps.norm.cdf(-sig/mu))\n",
    "esp2 = np.dot(W2[:,0],esp1) +  b2[0]"
   ]
  },
  {
   "cell_type": "code",
   "execution_count": null,
   "id": "d46125fa-3f6e-4610-a5ed-6b83ed643bec",
   "metadata": {},
   "outputs": [],
   "source": [
    "esp2"
   ]
  },
  {
   "cell_type": "code",
   "execution_count": null,
   "id": "e7b8cad3-b9b2-4904-8730-1a19073bf86c",
   "metadata": {},
   "outputs": [],
   "source": []
  }
 ],
 "metadata": {
  "kernelspec": {
   "display_name": "Python 3 (ipykernel)",
   "language": "python",
   "name": "python3"
  },
  "language_info": {
   "codemirror_mode": {
    "name": "ipython",
    "version": 3
   },
   "file_extension": ".py",
   "mimetype": "text/x-python",
   "name": "python",
   "nbconvert_exporter": "python",
   "pygments_lexer": "ipython3",
   "version": "3.9.7"
  }
 },
 "nbformat": 4,
 "nbformat_minor": 5
}
